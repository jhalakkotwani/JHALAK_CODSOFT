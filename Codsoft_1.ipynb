{
 "cells": [
  {
   "cell_type": "code",
   "execution_count": 12,
   "metadata": {},
   "outputs": [
    {
     "name": "stderr",
     "output_type": "stream",
     "text": [
      "C:\\Users\\jhala\\AppData\\Local\\Temp\\ipykernel_22480\\3888527641.py:8: ParserWarning: Falling back to the 'python' engine because the 'c' engine does not support regex separators (separators > 1 char and different from '\\s+' are interpreted as regex); you can avoid this warning by specifying engine='python'.\n",
      "  movies = pd.read_csv(train_path, sep=':::', header=None, names=['title', 'genre', 'description'])\n",
      "C:\\Users\\jhala\\AppData\\Local\\Temp\\ipykernel_22480\\3888527641.py:11: ParserWarning: Falling back to the 'python' engine because the 'c' engine does not support regex separators (separators > 1 char and different from '\\s+' are interpreted as regex); you can avoid this warning by specifying engine='python'.\n",
      "  movies_test = pd.read_csv(test_path, sep=':::', header=None, names=['title', 'genre', 'description'])\n"
     ]
    }
   ],
   "source": [
    "import pandas as pd\n",
    "\n",
    "# Paths to the datasets\n",
    "train_path = \"train_data.txt\"\n",
    "test_path = \"test_data_solution.txt\"\n",
    "\n",
    "# Load training data\n",
    "movies = pd.read_csv(train_path, sep=':::', header=None, names=['title', 'genre', 'description'])\n",
    "\n",
    "# Load testing data\n",
    "movies_test = pd.read_csv(test_path, sep=':::', header=None, names=['title', 'genre', 'description'])\n"
   ]
  },
  {
   "cell_type": "code",
   "execution_count": 13,
   "metadata": {},
   "outputs": [
    {
     "name": "stdout",
     "output_type": "stream",
     "text": [
      "Training data:\n",
      "                                title       genre  \\\n",
      "1       Oscar et la dame rose (2009)       drama    \n",
      "2                       Cupid (1997)    thriller    \n",
      "3   Young, Wild and Wonderful (1980)       adult    \n",
      "4              The Secret Sin (1915)       drama    \n",
      "5             The Unrecovered (2007)       drama    \n",
      "\n",
      "                                         description  \n",
      "1   Listening in to a conversation between his do...  \n",
      "2   A brother and sister with a past incestuous r...  \n",
      "3   As the bus empties the students for their fie...  \n",
      "4   To help their unemployed father make ends mee...  \n",
      "5   The film's title refers not only to the un-re...  \n",
      "\n",
      "Testing data:\n",
      "                           title          genre  \\\n",
      "1          Edgar's Lunch (1998)       thriller    \n",
      "2      La guerra de papá (1977)         comedy    \n",
      "3   Off the Beaten Track (2010)    documentary    \n",
      "4        Meu Amigo Hindu (2015)          drama    \n",
      "5             Er nu zhai (1955)          drama    \n",
      "\n",
      "                                         description  \n",
      "1   L.R. Brane loves his life - his car, his apar...  \n",
      "2   Spain, March 1964: Quico is a very naughty ch...  \n",
      "3   One year in the life of Albin and his family ...  \n",
      "4   His father has died, he hasn't spoken with hi...  \n",
      "5   Before he was known internationally as a mart...  \n",
      "\n",
      "Training data missing values:\n",
      "title          0\n",
      "genre          0\n",
      "description    0\n",
      "dtype: int64\n",
      "\n",
      "Testing data missing values:\n",
      "title          0\n",
      "genre          0\n",
      "description    0\n",
      "dtype: int64\n"
     ]
    }
   ],
   "source": [
    "# Display the first few rows of the training data\n",
    "print(\"Training data:\")\n",
    "print(movies.head())\n",
    "\n",
    "# Display the first few rows of the testing data\n",
    "print(\"\\nTesting data:\")\n",
    "print(movies_test.head())\n",
    "\n",
    "# Check for any missing values\n",
    "print(\"\\nTraining data missing values:\")\n",
    "print(movies.isnull().sum())\n",
    "\n",
    "print(\"\\nTesting data missing values:\")\n",
    "print(movies_test.isnull().sum())\n"
   ]
  },
  {
   "cell_type": "code",
   "execution_count": 14,
   "metadata": {},
   "outputs": [],
   "source": [
    "import nltk\n",
    "from nltk.corpus import stopwords\n",
    "from nltk.stem import WordNetLemmatizer\n",
    "import string\n",
    "import re\n",
    "\n",
    "space = re.compile('[/(){}\\[\\]\\|@,;]')\n",
    "symbols = re.compile('[^0-9a-z #+_]')\n",
    "stopwords = set(stopwords.words('english'))\n",
    "\n",
    "def preprocess_text(text):\n",
    "    text = text.lower() # lowercase text\n",
    "    text = space.sub(' ', text) \n",
    "    text = symbols.sub('', text)  \n",
    "    text = re.sub(r'[0-9]+','',text) #delete one or more digit ocurrences\n",
    "    text = ' '.join(word for word in text.split() if word not in stopwords) # delete stopwords from text\n",
    "    return text\n",
    "\n",
    "# Apply preprocessing to description column\n",
    "movies['description'] = movies['description'].apply(preprocess_text)\n",
    "movies_test['description'] = movies_test['description'].apply(preprocess_text)\n"
   ]
  },
  {
   "cell_type": "code",
   "execution_count": 15,
   "metadata": {},
   "outputs": [
    {
     "name": "stdout",
     "output_type": "stream",
     "text": [
      "Accuracy: 0.58\n",
      "\n",
      "Classification Report:\n",
      "               precision    recall  f1-score   support\n",
      "\n",
      "      action        0.51      0.26      0.35       263\n",
      "       adult        0.76      0.22      0.34       112\n",
      "   adventure        0.47      0.14      0.22       139\n",
      "   animation        0.60      0.09      0.15       104\n",
      "   biography        0.00      0.00      0.00        61\n",
      "      comedy        0.51      0.58      0.55      1443\n",
      "       crime        0.20      0.01      0.02       107\n",
      " documentary        0.67      0.84      0.75      2659\n",
      "       drama        0.54      0.78      0.64      2697\n",
      "      family        0.52      0.10      0.17       150\n",
      "     fantasy        0.00      0.00      0.00        74\n",
      "   game-show        0.94      0.42      0.59        40\n",
      "     history        0.00      0.00      0.00        45\n",
      "      horror        0.64      0.57      0.60       431\n",
      "       music        0.65      0.49      0.56       144\n",
      "     musical        0.50      0.02      0.04        50\n",
      "     mystery        0.00      0.00      0.00        56\n",
      "        news        1.00      0.03      0.06        34\n",
      "  reality-tv        0.47      0.19      0.27       192\n",
      "     romance        0.14      0.01      0.01       151\n",
      "      sci-fi        0.54      0.22      0.31       143\n",
      "       short        0.47      0.33      0.39      1045\n",
      "       sport        0.63      0.18      0.28        93\n",
      "   talk-show        0.50      0.14      0.21        81\n",
      "    thriller        0.40      0.14      0.21       309\n",
      "         war        0.00      0.00      0.00        20\n",
      "     western        0.96      0.73      0.83       200\n",
      "\n",
      "     accuracy                           0.58     10843\n",
      "    macro avg       0.47      0.24      0.28     10843\n",
      " weighted avg       0.55      0.58      0.54     10843\n",
      "\n"
     ]
    },
    {
     "name": "stderr",
     "output_type": "stream",
     "text": [
      "c:\\Users\\jhala\\OneDrive\\Documents\\GitHub\\JHALAK_CODSOFT\\.venv\\lib\\site-packages\\sklearn\\metrics\\_classification.py:1531: UndefinedMetricWarning: Precision is ill-defined and being set to 0.0 in labels with no predicted samples. Use `zero_division` parameter to control this behavior.\n",
      "  _warn_prf(average, modifier, f\"{metric.capitalize()} is\", len(result))\n",
      "c:\\Users\\jhala\\OneDrive\\Documents\\GitHub\\JHALAK_CODSOFT\\.venv\\lib\\site-packages\\sklearn\\metrics\\_classification.py:1531: UndefinedMetricWarning: Precision is ill-defined and being set to 0.0 in labels with no predicted samples. Use `zero_division` parameter to control this behavior.\n",
      "  _warn_prf(average, modifier, f\"{metric.capitalize()} is\", len(result))\n",
      "c:\\Users\\jhala\\OneDrive\\Documents\\GitHub\\JHALAK_CODSOFT\\.venv\\lib\\site-packages\\sklearn\\metrics\\_classification.py:1531: UndefinedMetricWarning: Precision is ill-defined and being set to 0.0 in labels with no predicted samples. Use `zero_division` parameter to control this behavior.\n",
      "  _warn_prf(average, modifier, f\"{metric.capitalize()} is\", len(result))\n"
     ]
    }
   ],
   "source": [
    "from sklearn.feature_extraction.text import TfidfVectorizer\n",
    "from sklearn.linear_model import LogisticRegression\n",
    "from sklearn.pipeline import Pipeline\n",
    "from sklearn.model_selection import train_test_split\n",
    "from sklearn.metrics import accuracy_score, classification_report\n",
    "\n",
    "# Splitting the data into train and test sets\n",
    "X_train, X_test, y_train, y_test = train_test_split(movies['description'], movies['genre'], test_size=0.2, random_state=42)\n",
    "\n",
    "# Initialize TF-IDF vectorizer\n",
    "tfidf_vectorizer = TfidfVectorizer(max_features=5000)\n",
    "\n",
    "# Initialize Logistic Regression classifier\n",
    "classifier = LogisticRegression(max_iter=1000)\n",
    "\n",
    "# Create a pipeline\n",
    "pipeline = Pipeline([\n",
    "    ('tfidf', tfidf_vectorizer),\n",
    "    ('clf', classifier)\n",
    "])\n",
    "\n",
    "# Fit the model\n",
    "pipeline.fit(X_train, y_train)\n",
    "\n",
    "# Predictions on the test set\n",
    "y_pred = pipeline.predict(X_test)\n",
    "\n",
    "# Evaluate the model\n",
    "accuracy = accuracy_score(y_test, y_pred)\n",
    "print(f\"Accuracy: {accuracy:.2f}\")\n",
    "\n",
    "print(\"\\nClassification Report:\")\n",
    "print(classification_report(y_test, y_pred))\n"
   ]
  },
  {
   "cell_type": "code",
   "execution_count": 16,
   "metadata": {},
   "outputs": [
    {
     "name": "stdout",
     "output_type": "stream",
     "text": [
      "Test data with predictions:\n",
      "                           title          genre  \\\n",
      "1          Edgar's Lunch (1998)       thriller    \n",
      "2      La guerra de papá (1977)         comedy    \n",
      "3   Off the Beaten Track (2010)    documentary    \n",
      "4        Meu Amigo Hindu (2015)          drama    \n",
      "5             Er nu zhai (1955)          drama    \n",
      "\n",
      "                                         description predicted_genre  \n",
      "1  lr brane loves life car apartment job especial...          drama   \n",
      "2  spain march quico naughty child three belongin...          drama   \n",
      "3  one year life albin family shepherds north tra...    documentary   \n",
      "4  father died hasnt spoken brother years serious...          drama   \n",
      "5  known internationally martial arts superstar b...          drama   \n"
     ]
    }
   ],
   "source": [
    "# Predictions on the test set\n",
    "y_pred_test = pipeline.predict(movies_test['description'])\n",
    "\n",
    "# Append predictions to test dataset for review\n",
    "movies_test['predicted_genre'] = y_pred_test\n",
    "\n",
    "# Display the test dataset with predictions\n",
    "print(\"Test data with predictions:\")\n",
    "print(movies_test.head())\n"
   ]
  },
  {
   "cell_type": "code",
   "execution_count": null,
   "metadata": {},
   "outputs": [],
   "source": []
  },
  {
   "cell_type": "code",
   "execution_count": null,
   "metadata": {},
   "outputs": [],
   "source": []
  }
 ],
 "metadata": {
  "kernelspec": {
   "display_name": ".venv",
   "language": "python",
   "name": "python3"
  },
  "language_info": {
   "codemirror_mode": {
    "name": "ipython",
    "version": 3
   },
   "file_extension": ".py",
   "mimetype": "text/x-python",
   "name": "python",
   "nbconvert_exporter": "python",
   "pygments_lexer": "ipython3",
   "version": "3.9.13"
  }
 },
 "nbformat": 4,
 "nbformat_minor": 2
}
